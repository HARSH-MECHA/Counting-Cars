{
  "nbformat": 4,
  "nbformat_minor": 0,
  "metadata": {
    "colab": {
      "provenance": []
    },
    "kernelspec": {
      "name": "python3",
      "display_name": "Python 3"
    },
    "language_info": {
      "name": "python"
    }
  },
  "cells": [
    {
      "cell_type": "code",
      "execution_count": null,
      "metadata": {
        "id": "-TMXkLHgBP-T"
      },
      "outputs": [],
      "source": [
        "from ultralytics import YOLO\n",
        "import supervision as sv\n",
        "\n",
        "# Initialize the YOLOv8 model with the specified weights file\n",
        "model = YOLO('yolov8x.pt')\n",
        "\n",
        "# Train the model using a specified dataset (data.yaml file) for 300 epochs\n",
        "model.train(data='Path to data.yaml file of your dataset', epochs=300)"
      ]
    },
    {
      "cell_type": "code",
      "source": [
        "# Initialize the YOLOv8 model with pre-trained weights\n",
        "model = YOLO('Path to trained model (best.pt file)')\n",
        "\n",
        "# Perform object detection on a specified video file or image\n",
        "result = model.predict('Video/image file path', save=True, conf=0.3, iou=0.45)\n",
        "\n",
        "# Count the total number of objects (cars) detected in the video or image\n",
        "total_objects_detected = 0\n",
        "for prediction in result:\n",
        "    total_objects_detected += len(prediction)\n",
        "\n",
        "# Display the total number of cars detected\n",
        "print(f\"Total number of Cars: {total_objects_detected}\")"
      ],
      "metadata": {
        "id": "41rITye5BS23"
      },
      "execution_count": null,
      "outputs": []
    }
  ]
}